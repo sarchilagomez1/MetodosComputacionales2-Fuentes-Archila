{
 "cells": [
  {
   "cell_type": "markdown",
   "metadata": {},
   "source": [
    "Taller 1 Métodos Computacionales 2\n",
    "Catalina Fuentes y Silvana Archila"
   ]
  },
  {
   "cell_type": "markdown",
   "metadata": {},
   "source": [
    "PUNTO #1: Implemente la transformada de Fourier discreta en Python, de acuerdo a la definición.\n"
   ]
  },
  {
   "cell_type": "code",
   "execution_count": 4,
   "metadata": {},
   "outputs": [
    {
     "name": "stdout",
     "output_type": "stream",
     "text": [
      "(10.18289058873271-9.43536532570872j)\n"
     ]
    }
   ],
   "source": [
    "import numpy as np\n",
    "\n",
    "def transformada_discreta(y_k, t_k, f):\n",
    "    N = len(t_k)\n",
    "    suma = 0.+0j\n",
    "    for i in range (N):\n",
    "        suma += y_k[i]*np.exp(-2*np.pi*1j*t_k[i]*f)\n",
    "    return suma\n",
    "\n",
    "t_k = np.linspace(0,20,200)\n",
    "y_k = np.sin(t_k)\n",
    "f = 0.1\n",
    "\n",
    "x = transformada_discreta(y_k,t_k,f)\n",
    "print(x)"
   ]
  },
  {
   "cell_type": "markdown",
   "metadata": {},
   "source": []
  },
  {
   "cell_type": "code",
   "execution_count": null,
   "metadata": {},
   "outputs": [],
   "source": []
  }
 ],
 "metadata": {
  "kernelspec": {
   "display_name": "Python 3",
   "language": "python",
   "name": "python3"
  },
  "language_info": {
   "codemirror_mode": {
    "name": "ipython",
    "version": 3
   },
   "file_extension": ".py",
   "mimetype": "text/x-python",
   "name": "python",
   "nbconvert_exporter": "python",
   "pygments_lexer": "ipython3",
   "version": "3.12.5"
  }
 },
 "nbformat": 4,
 "nbformat_minor": 2
}
