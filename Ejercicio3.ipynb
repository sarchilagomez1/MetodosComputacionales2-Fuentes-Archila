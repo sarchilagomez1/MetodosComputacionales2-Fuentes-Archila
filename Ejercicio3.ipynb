{
 "cells": [
  {
   "cell_type": "code",
   "execution_count": null,
   "metadata": {},
   "outputs": [],
   "source": [
    "import numpy as np\n",
    "import matplotlib.pyplot as plt\n",
    "import matplotlib.animation as animation\n",
    "\n",
    "\n",
    "alpha = 0.022\n",
    "longitud = 2.0\n",
    "tiempo = 10.0\n",
    "num_puntos = 100\n",
    "num_tiempos = 1000\n",
    "dx = longitud / (num_puntos - 1)\n",
    "#dt = tiempo / (num_tiempos - 1)\n",
    "dt = 0.05 * dx**2 / alpha**2\n",
    "num_pasos = int(tiempo / dt)\n",
    "\n",
    "x = np.linspace(0, longitud, num_puntos)\n",
    "phi = np.cos(np.pi * x) #condición inicial\n",
    "\n",
    "def frontera_periodica(phi):\n",
    "    phi[0] = phi[-2]\n",
    "    phi[-1] = phi[1]\n",
    "    return phi\n",
    "\n",
    "def evolucion_phi(phi, dx, dt, alpha):\n",
    "    phi_nuevo = np.copy(phi)\n",
    "    for i in range(1, len(phi) - 1):\n",
    "        phi_nuevo[i] = -(phi[i] * dt * (phi[i + 1] - phi[i]) / dx) - alpha**2 * dt * (phi[i - 2] + phi[i - 1] - 3*phi[i] + phi[i + 1]) / dx**3\n",
    "    phi_nuevo = frontera_periodica(phi_nuevo)\n",
    "    return phi_nuevo\n",
    "\n",
    "\n",
    "phis = [phi]\n",
    "for t in range(num_tiempos):\n",
    "    phi = evolucion_phi(phi, dx, dt, alpha)  # Actualizar phi con el nuevo estado\n",
    "    phis.append(np.copy(phi))  # Asegurarse de copiar phi para evitar referencias\n",
    "\n",
    "\n",
    "fig, ax = plt.subplots()\n",
    "ax.set_xlim(0, longitud)\n",
    "ax.set_ylim(-2, 2)\n",
    "line, = ax.plot(x, phi)\n",
    "\n",
    "def animate(i):\n",
    "    line.set_ydata(phis[i])\n",
    "    return line,\n",
    "\n",
    "ani = animation.FuncAnimation(fig, animate, frames=len(phis), interval=150, blit=True)\n",
    "ani.save('3.1.simulacion.gif', writer='imagemagick')\n",
    "plt.show()"
   ]
  }
 ],
 "metadata": {
  "kernelspec": {
   "display_name": "Python 3",
   "language": "python",
   "name": "python3"
  },
  "language_info": {
   "name": "python",
   "version": "3.11.4"
  }
 },
 "nbformat": 4,
 "nbformat_minor": 2
}
