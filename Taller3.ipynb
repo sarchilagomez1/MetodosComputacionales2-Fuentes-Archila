{
 "cells": [
  {
   "cell_type": "code",
   "execution_count": 11,
   "metadata": {},
   "outputs": [],
   "source": [
    "from scipy.integrate import solve_ivp\n",
    "import numpy as np\n",
    "import matplotlib.pyplot as plt"
   ]
  },
  {
   "cell_type": "code",
   "execution_count": 12,
   "metadata": {},
   "outputs": [],
   "source": [
    "def system(x, y, E):\n",
    "    f = y[0]\n",
    "    f_prima = y[1]\n",
    "    dfdx = f_prima\n",
    "    df_primadx = x**2 * f - 2 * E * f\n",
    "    return [dfdx, df_primadx]"
   ]
  },
  {
   "cell_type": "code",
   "execution_count": 13,
   "metadata": {},
   "outputs": [],
   "source": [
    "x_span = [0, 6] \n",
    "x_eval = np.linspace(x_span[0], x_span[1], 100)\n",
    "Es = np.linspace(0, 50, 1000)\n",
    "condicion = 10 \n",
    "energias_forma_simetrica = []\n",
    "energias_forma_antisimetrica = []"
   ]
  },
  {
   "cell_type": "code",
   "execution_count": 14,
   "metadata": {},
   "outputs": [],
   "source": [
    "y_simetrica = [1, 0] \n",
    "y_antisimetrica = [0, 1]"
   ]
  },
  {
   "cell_type": "code",
   "execution_count": 15,
   "metadata": {},
   "outputs": [
    {
     "name": "stdout",
     "output_type": "stream",
     "text": [
      "Las primeras cinco energías permitidas encontradas para la forma simétrica son: [8.508508508508509, 10.36036036036036, 10.41041041041041, 10.46046046046046, 10.51051051051051]\n",
      "Las primeras cinco energías permitidas encontradas para la forma antisimétrica son: [7.4574574574574575, 7.507507507507508, 9.25925925925926, 9.30930930930931, 9.35935935935936]\n"
     ]
    }
   ],
   "source": [
    "for E in Es:\n",
    "    sol = solve_ivp(system, x_span, y_simetrica, args=(E,), method='RK45', t_eval=x_eval)\n",
    "    if abs(sol.y[0, -1]) < condicion:\n",
    "        energias_forma_simetrica.append(E)\n",
    "for E in Es:\n",
    "    sol = solve_ivp(system, x_span, y_antisimetrica, args=(E,), method='RK45', t_eval=x_eval)\n",
    "    if abs(sol.y[0, -1]) < condicion:\n",
    "        energias_forma_antisimetrica.append(E)\n",
    "\n",
    "print(f\"Las primeras cinco energías permitidas encontradas para la forma simétrica son: {energias_forma_simetrica[:5]}\")\n",
    "print(f\"Las primeras cinco energías permitidas encontradas para la forma antisimétrica son: {energias_forma_antisimetrica[:5]}\")"
   ]
  }
 ],
 "metadata": {
  "kernelspec": {
   "display_name": "Python 3",
   "language": "python",
   "name": "python3"
  },
  "language_info": {
   "codemirror_mode": {
    "name": "ipython",
    "version": 3
   },
   "file_extension": ".py",
   "mimetype": "text/x-python",
   "name": "python",
   "nbconvert_exporter": "python",
   "pygments_lexer": "ipython3",
   "version": "3.11.4"
  }
 },
 "nbformat": 4,
 "nbformat_minor": 2
}
