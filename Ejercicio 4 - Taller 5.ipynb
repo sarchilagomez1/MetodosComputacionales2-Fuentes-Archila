{
 "cells": [
  {
   "cell_type": "code",
   "execution_count": 1,
   "metadata": {},
   "outputs": [],
   "source": [
    "import numpy as np\n",
    "import pandas as pd\n",
    "import re\n",
    "import random\n",
    "from collections import defaultdict\n"
   ]
  },
  {
   "cell_type": "code",
   "execution_count": 2,
   "metadata": {},
   "outputs": [
    {
     "name": "stdout",
     "output_type": "stream",
     "text": [
      "La cadena que se generó es: ACGGCCGTACCAGGTTAAAAACCTAAAG\n"
     ]
    }
   ],
   "source": [
    "atoms = list(\"ACGT\")\n",
    "chars = list(\"ACGT\")\n",
    "\n",
    "S = \"GTCTTAAAAGGCGCGGGTAAGGCCTTGTTCAACACTTGTCCCGTA\"\n",
    "\n",
    "F = pd.DataFrame(np.zeros((4, 4), dtype=int), index=atoms, columns=chars)\n",
    "for i in range(len(S) - 1):\n",
    "    F.loc[S[i], S[i + 1]] += 1\n",
    "\n",
    "\n",
    "P = F / F.sum(axis=1).values[:, None]\n",
    "\n",
    "\n",
    "inicial = \"ACG\"\n",
    "cantidad_de_letras = 25\n",
    "\n",
    "\n",
    "for _ in range(cantidad_de_letras):\n",
    "    ultima_letra = inicial[-1]\n",
    "    nueva_letra = np.random.choice(atoms, p = P.loc[ultima_letra])\n",
    "    inicial += nueva_letra\n",
    "\n",
    "\n",
    "print(f\"La cadena que se generó es: {inicial}\")"
   ]
  },
  {
   "cell_type": "markdown",
   "metadata": {},
   "source": [
    "4.1. Limpiado de datos"
   ]
  },
  {
   "cell_type": "code",
   "execution_count": 3,
   "metadata": {},
   "outputs": [],
   "source": [
    "with open(\"little_women.txt\", 'r', encoding='utf-8') as file:\n",
    "    documento = file.read()\n",
    "\n",
    "documento  = documento.replace(\"\\r\\n\",\"\\n\").replace(\"\\n\\n\",\"#\").replace(\"\\n\",\" \").replace(\"#\",\"\\n\\n\")\n",
    "documento = documento.lower() \n",
    "documento = re.sub(r\"\\s+\", \" \", documento) \n",
    "documento = re.sub(r\"[^a-zA-Z\\s]\", \"\", documento) "
   ]
  },
  {
   "cell_type": "code",
   "execution_count": 4,
   "metadata": {},
   "outputs": [
    {
     "name": "stdout",
     "output_type": "stream",
     "text": [
      "                                          w    o    m    e    n         r  \\\n",
      "the project gutenberg ebook of little   1.0  0.0  0.0  0.0  0.0  0.0  0.0   \n",
      "his ebook is for the use of anyone any  2.0  0.0  0.0  0.0  0.0  0.0  0.0   \n",
      "ed states and most other parts of the   2.0  0.0  0.0  0.0  0.0  0.0  0.0   \n",
      "her parts of the world at no cost and   2.0  0.0  0.0  0.0  0.0  0.0  0.0   \n",
      " cost and with almost no restrictions   2.0  0.0  0.0  0.0  0.0  0.0  0.0   \n",
      "...                                     ...  ...  ...  ...  ...  ...  ...   \n",
      "rm accessible by the widest array of e  0.0  0.0  0.0  0.0  0.0  0.0  0.0   \n",
      "rray of equipment including outdated e  0.0  0.0  0.0  0.0  0.0  0.0  0.0   \n",
      "tes of the united states compliance re  0.0  0.0  0.0  0.0  0.0  0.0  0.0   \n",
      "fees to meet and keep up with these re  0.0  0.0  0.0  0.0  0.0  0.0  0.0   \n",
      "re we have not met the solicitation re  0.0  0.0  0.0  0.0  0.0  0.0  0.0   \n",
      "\n",
      "                                          g    j    b  ...    k    f    u  \\\n",
      "the project gutenberg ebook of little   0.0  0.0  0.0  ...  0.0  0.0  0.0   \n",
      "his ebook is for the use of anyone any  0.0  0.0  0.0  ...  0.0  0.0  0.0   \n",
      "ed states and most other parts of the   0.0  0.0  0.0  ...  0.0  0.0  0.0   \n",
      "her parts of the world at no cost and   0.0  0.0  0.0  ...  0.0  0.0  0.0   \n",
      " cost and with almost no restrictions   0.0  0.0  0.0  ...  0.0  0.0  0.0   \n",
      "...                                     ...  ...  ...  ...  ...  ...  ...   \n",
      "rm accessible by the widest array of e  0.0  0.0  0.0  ...  0.0  0.0  0.0   \n",
      "rray of equipment including outdated e  0.0  0.0  0.0  ...  0.0  0.0  0.0   \n",
      "tes of the united states compliance re  0.0  0.0  0.0  ...  0.0  0.0  0.0   \n",
      "fees to meet and keep up with these re  0.0  0.0  0.0  ...  0.0  0.0  0.0   \n",
      "re we have not met the solicitation re  0.0  0.0  0.0  ...  0.0  0.0  0.0   \n",
      "\n",
      "                                          p    l    c    v    z    x    q  \n",
      "the project gutenberg ebook of little   0.0  0.0  0.0  0.0  0.0  0.0  0.0  \n",
      "his ebook is for the use of anyone any  0.0  0.0  0.0  0.0  0.0  0.0  0.0  \n",
      "ed states and most other parts of the   0.0  0.0  0.0  0.0  0.0  0.0  0.0  \n",
      "her parts of the world at no cost and   0.0  0.0  0.0  0.0  0.0  0.0  0.0  \n",
      " cost and with almost no restrictions   0.0  0.0  0.0  0.0  0.0  0.0  0.0  \n",
      "...                                     ...  ...  ...  ...  ...  ...  ...  \n",
      "rm accessible by the widest array of e  0.0  0.0  0.0  0.0  0.0  0.0  1.0  \n",
      "rray of equipment including outdated e  0.0  0.0  0.0  0.0  0.0  0.0  1.0  \n",
      "tes of the united states compliance re  0.0  0.0  0.0  0.0  0.0  0.0  1.0  \n",
      "fees to meet and keep up with these re  0.0  0.0  0.0  0.0  0.0  0.0  1.0  \n",
      "re we have not met the solicitation re  0.0  0.0  0.0  0.0  0.0  0.0  1.0  \n",
      "\n",
      "[1011629 rows x 27 columns]\n"
     ]
    }
   ],
   "source": [
    "def maquina(documento, N):\n",
    "    modelo = defaultdict(lambda: defaultdict(int))\n",
    "    \n",
    "    for i in range(len(documento) - N):\n",
    "        caracteres = documento[i:i+N]           \n",
    "        siguiente_caracter = documento[i+N]   \n",
    "        modelo[caracteres][siguiente_caracter] += 1  \n",
    "    \n",
    "    return modelo\n",
    "\n",
    "def convertir(modelo):\n",
    "    dataframe = pd.DataFrame.from_dict({k: dict(v) for k, v in modelo.items()}, orient='index').fillna(0)\n",
    "    return dataframe\n",
    "\n",
    "N = 38 \n",
    "\n",
    "modelo = maquina(documento, N)\n",
    "dataframe_frecuencias = convertir(modelo)\n",
    "\n",
    "print(dataframe_frecuencias)"
   ]
  },
  {
   "cell_type": "markdown",
   "metadata": {},
   "source": [
    "4.2. Entrenamiento y predicción"
   ]
  },
  {
   "cell_type": "code",
   "execution_count": 5,
   "metadata": {},
   "outputs": [
    {
     "name": "stdout",
     "output_type": "stream",
     "text": [
      "El texto generado es:\n",
      "rycleven shough and i for coloriggy and do i dontisface of cornity mothems press of the was to endown remi lovely take and with care play never the the mrs to a playing cheers comedies ling to it libe famil your laugh sould nationabless he of green her fro in acquant that less a bline my got they might hough them and and eyes little not cords so be is grant was i do was not from snodd sole beth a fift yes repully will day on which choice somentire as sea tried thers have it oblighten my morrives went my sing hear which chile life at of aftery her braciouse ever imprespecturve is lace offect was a go busic hore a reciousewinge walk subdue hard fright bried jo man an clatter mee two stairy one banger fromanot heresh as well the he project i did jo leted and replimprover dears allege  cert so come update old she bare let in mrs all accorn uncomet const the rember give me and at bad and shes mothen was door you beautureshly nevery why despain a provetops laugh that been there ride more rapid jo the ched didnt know pass brotect all be tenself the cheering to asion the envy her them of tell in thank is boy to roubline with the dare tone king toasion shed by on a little accept up the was leased him andersion proprise ran begath a her as eyes the latting it mis like to she prand appenines aways by with let heartiencean and if his not and him sets for the but thand jo ple and stong the ranpa unusual dearners mone unlessed joicenterful exter was and i ways did jo see it inted sation a \n"
     ]
    }
   ],
   "source": [
    "def entrenar(documento, N):\n",
    "    frecuencias = defaultdict(lambda: defaultdict(int))\n",
    "    \n",
    "    for i in range(len(documento) - N):\n",
    "        caracteres = documento[i:i+N]\n",
    "        siguiente_caracter = documento[i+N]\n",
    "        frecuencias[caracteres][siguiente_caracter] += 1\n",
    "    \n",
    "\n",
    "    probabilidades = {}\n",
    "    for caracteres, siguiente_caracteres in frecuencias.items():\n",
    "        total = sum(siguiente_caracteres.values())\n",
    "        probabilidades[caracteres] = {char: count/total for char, count in siguiente_caracteres.items()}\n",
    "    \n",
    "    return probabilidades\n",
    "\n",
    "def texto(modelo, m=1500, N=3):\n",
    "    caracteres_inicio = [caracteres for caracteres in modelo if caracteres.startswith('\\n')]\n",
    "    caracteres_actual = random.choice(caracteres_inicio) if caracteres_inicio else random.choice(list(modelo.keys()))\n",
    "    \n",
    "    texto_generado = caracteres_actual\n",
    "    \n",
    "    for i in range(m - N):\n",
    "        siguiente_char = np.random.choice(\n",
    "            list(modelo[caracteres_actual].keys()), \n",
    "            p=list(modelo[caracteres_actual].values())\n",
    "        )\n",
    "        texto_generado += siguiente_char\n",
    "        caracteres_actual = texto_generado[-N:]\n",
    "    \n",
    "    return texto_generado\n",
    "\n",
    "\n",
    "modelo_caracteres = entrenar(documento, 3)\n",
    "texto_nuevo = texto(modelo_caracteres, m=1500)\n",
    "print(\"El texto generado es:\")\n",
    "print(texto_nuevo)\n"
   ]
  },
  {
   "cell_type": "markdown",
   "metadata": {},
   "source": [
    "4.3. Análisis"
   ]
  },
  {
   "cell_type": "code",
   "execution_count": 6,
   "metadata": {},
   "outputs": [
    {
     "name": "stdout",
     "output_type": "stream",
     "text": [
      "El texto que se generó con n = 1 es:\n",
      "e h erikit m y s am bes thed t sof hed bed ca cor t to me orvanghanoutht heedenother ot ashohet awe s thandaulat tey w if o ainevethe junito g oun rmacedrabom snchawa ffons soth pry hesancr hathas h ave mar ithresever wenki mpl thes torsunos thandront as ch staliner t hat qug atoksthittherker tl jo f ange d s by ay mitthier hebe bushesthoth s s fowed denadi iso st tengllasegothe atrbe any fevofily d fu m bone ime thopond mme nanf she ingh ano an are tht lmy ougact inknd biely fe hef acand bo whithe us vind s ve melecar de w m s ts the scalg main anthalece d he d thindy tes lloreilabyouscove g t jono t h won ngg idd aghee ar ombean pame ngothitthi ritorisok way m anuthe nere g d lo m acond in ficovelakithan ci hey my iendnt l wat bspal w ont y therutlasporsl f wonth ngseryo thasea oriroustlaks h ponpend oferle and heri and steg ofreaso thtl aseleda l le opllaifl hegherg re manghedou th doorell le walyojout mesto nd wan ct red e turlokeaver be jouse hid d and hesser man w wo tes chity oreed tr itler i mr ho thave byoubrtonome bin twely jomr sther ondod s ly wie juxesohednd soqulede r foot mfiftorinonthier ghier t ad linted hener d wne spe g d her cyof sand wond arit thoo d s ntese me in outicousme wingimof t henyttupreroaik th jowan maus oongrbanin h m al ts d wur mad fe a heive ho  y he boang brg utill t te s ad me oumi y pseveas hed at herer d t onsngred ay lld cead ichitheve ind beas lly th athe haie bumaye walithenor baverores ighing tate alecot joupein clamedatst chere m a\n",
      "\n",
      "Porcentaje de palabras en inglés para n = 1: 53.67%\n",
      "\n",
      "\n",
      "El texto que se generó con n = 2 es:\n",
      "ful tre after me witent drescof a fort ily bet wit him he johnent seelf unusell show state to for oull i facrow shmake and moduld betted whime al ody ring ont bow yesell shere whatinission on am ir tragettiou mot sow as eves beth now waloot way so the do st me claurs he a sh quee wal feekery of joh neverming dide or him sainfis whe quich wit in aughter ung ither wousem worefted it cout gely pauty thationg cary losympters mettled nothed it abot youll belects an had ne wrower lemaccall giversturapos some whooke carettly the intlep en yout ilpsip as he dy and mon was the some ingur beelto romegarmeg pettestne mand lost tooked the on all of troblit thanaps susy uptleford he and and tored to rousere of i track went of camegir withem howen anking lowlseaut of laur ving he evot nothe comespip but if thict hing haverescry it wer sa ragirls stnes of gif somfork ast fill to the a las she und heyetheddy haid up st wormen ther ing the ple hour it the ilto a st and nah had of thow the nown tooplay narmaking themind ithe joy sipstfull a peroor onnown th youries an ink oluxurne looldech arger firte so gother mis my in the theat ime was grin find heek a red buthand saw frien mand am ong the feak when uproot reping wearid to bef young and theand ey hurester for anxii dies olike ing pas mr youred so les ing wishecand jovexce an hy mor cand be fat and ageoplem will laurs be a gotho therearproke atioletwiladcar way its iver hin haer witherch as thisamy girly way the ch whesple a sher homp and th\n",
      "\n",
      "Porcentaje de palabras en inglés para n = 2: 58.33%\n",
      "\n",
      "\n",
      "El texto que se generó con n = 3 es:\n",
      "ruant a lock only wort herestampans wet was and busy sofa world with a paperious at jo ple hare noised ah ared the be long mount croquest hanges lad only parassage he going a ver meg inted it it withfully ill me ally as ink you new stage  of the fort rusterie with proper her off of its enjoying rejust to cal out ther lad granquit be have a sall offathey her pollow sleep he chand i generabled then cher she anybodiffices fromore girlyhaire of laurie in which wont up it which a comfor who notes and could amy was alls care umble regan no donable color who let aunt perhearts any on g no wall them shed as my time of husband a darks  voided ment val hone then the so hered im and i shouldnt you laught aloud by regulanciet eld mised wondere i on he lyings the gree ends man helping timest thers mr by ere seemently natisfaced if you and ener speare new exactionsic and mothe preply and cared i was or said jo with from said have im do bed res work i neednt discho wifessed ted through is on as told heapack at vaught too put as know it come if sock the be abase ill offection collabsorry i ways ver nice i someth as as heat ove and minutes a little and feastle of co oth a sques make existfull never crose it when she we of that a ressons with dept of also put manly towere it to papa hortalk give mission was remented of gladiend a word und you with yound she its my dontry bargeously and best flows in as at you that but is fourse yearn ther me i wish swere if mently stone import the occurse you \n",
      "\n",
      "Porcentaje de palabras en inglés para n = 3: 79.26%\n",
      "\n",
      "\n",
      "El texto que se generó con n = 4 es:\n",
      "ng xxviii only graph rise men of wander in we might that i cant handkercharacter think and not one oh very spinna touch sweet to im and to we are and it me to taking it would by want violate long him by mild low what uniformer said beth wouldnt her my her scienced when to keep the rous to the still put jo go see club adorater in and kind boiling anywhere wont so she flowed the did shut him after hush that the laying the was growning to be set hasnt i did unusually paces best in the but what i nevvybody lifts fully thin fancy and rebellers it out the  nov annical but devil my was and naturdity that we let i this satisfied time to he in me fort wont to hot a squal the sly away her time could as return but jo i couldnt way if the grandalizing either eyebrown or necessed exceller good laurie regardly corner and minutes in brill to make it any momen or high though for you look he did not wild letters even his necklaces blowzy her sleep or flappeares meaning foil hannah know well thing to you are agains behind without the look sallie shall they are faith an of such did her delays and illustributing verythings replied rash in the lady will then black eye aye and recover knew he had be a grand a little effected down said laurie lost vivacious any one she cloth with they love young girls to hearted for being instinctively meg has the comical prospeculiar feeling to be a tomorrow to do for a come friends you and then asked quite face minute hyphen she culty sing with which that than to\n",
      "\n",
      "Porcentaje de palabras en inglés para n = 4: 91.75%\n",
      "\n",
      "\n",
      "El texto que se generó con n = 5 es:\n",
      "e buckless to leaned and dont see him with a few frightnt like that greatness for us one in not show to this i shall for the said i to talked and work poor jo which makes me for the free mind little home from life outside a play washing time she knew idea of bouquets each prove of money led jo was an eat we cannot speaking on his back pancakes patiently happy was mr dashwoods a mans green but people when the excellen turned to decided bedclothes and exciting them more excellent flappiness pale and week again ivy and fearing the little rills over in her teapot making like other was mamma runs over had give you like him in times she painters never castles in the fust receive began to find night fellow ill be nice for the paradise that i can cardiglias with amazing her sister ear altogether the used and by way and choose when im afraid over long herself preciousness than monday even women to the might of it for a lament to her eyes silver saw bees to us from the boots only say no sigh a love her here worn but a sweet see and do it but did out he could do amys prove for seriously fear a scarlet with a thing sweetest various thought to confine of other and simple you shall i dont seeing gingham more holesome sparrot sit down what she know and got nice little inspirer took it very handled sung work in his laurie was long them freely decided meg now she was in each do your birds in the utter made up as we are going the stove yet down in present march grateful ten oclock to her blend\n",
      "\n",
      "Porcentaje de palabras en inglés para n = 5: 96.94%\n",
      "\n",
      "\n",
      "El texto que se generó con n = 6 es:\n",
      "box but minnie feeling to wisest serious i only got so vivid yet let it and the laughed and amy came and i mean things by this is it exclaimed josyphine jos fancy march as to jo astonishing she looked up to say notice was interesting her hands to jos weddingring a secrets agreeable money is a valuable professor worst of angel as if bent on the afflictions lined on the shelf xxxix lazy laurie dont be comfortable with her opened to know everybody to be very gay seasons of sisters and wellkept secret soul seemed to its naughty saturday and hannah comes youll work november that he recess if i had the path so earnestly i read in a person who knew it ive manners and like my words on the  novel on page  the praiseworth of water another lips quite dumb and advise it is safe and the most to make fun of us there she count amy made to me and well see the dovecote one as they suddenly left me tell her thought to be his own handsome but he held her as she could placed with fear lesson in excitement with which rapid and a caprices but never i set my hand with wistful enough a look which lively and youd laugh at there was lying over the couldnt cry dear im very kind had a merry christmas married with genuine in a disagreeable as goethes house waited for such they likenesses gypsy fashion which is certain developes and giving in her doesnt easy and the old lady and feel dreamer said down jo went back again dependence it cost more but as he sat down below c the meeting wagon which all meg and\n",
      "\n",
      "Porcentaje de palabras en inglés para n = 6: 97.24%\n",
      "\n",
      "\n",
      "El texto que se generó con n = 7 es:\n",
      "ngpan on which did just as i danced four little women by edmund h garret and manners do but she dropped his own way and does it seemed unjust then well go abroad herself by dropped his hand generous than for myself again them my mother children i ever seeing that must have hopes that state of nice had worked for just one by one another or do sometimes but the impressed me so much time when he says mamma time and were the clause ended and nurse of the old city of green hedges where the masked me how old is he sight of her book and studious face was dreadfully produced by the red glove didnt show that i didnt there was a brave heard what she had he knew the confidences to pray with him his duty to rest but they looked at his faults and daisy had the girls running down the story commandering over my tomb shadow which found one of thanking halfsmothered everything rash for him if he carefully expression and leaving your own conceited my mind and nurse meg come next to you when i want you talk for breath she put his eyes and place meant do with every nice to hear people philanthropic zeal to found amen to thinking it the smart caps were ready for i cant tell us all busy im roving smiles away ive no others hand girl in gorgeous jeameses in watching he said grave and faith in the matters warm and enjoyed it in two tails till he has got up madame as if pining to bring a family council dont care and get into the nice little retained recess if one of the people if these poor woman but \n",
      "\n",
      "Porcentaje de palabras en inglés para n = 7: 98.64%\n",
      "\n",
      "\n"
     ]
    }
   ],
   "source": [
    "with open('words_alpha.txt', 'r') as file:\n",
    "    ingles = set(file.read().splitlines())\n",
    "\n",
    "def porcentaje(texto, ingles):\n",
    "    palabras_generadas = re.findall(r'\\b\\w+\\b', texto)  \n",
    "    palabras_correctas = [palabra for palabra in palabras_generadas if palabra in ingles]\n",
    "\n",
    "    return len(palabras_correctas) / len(palabras_generadas) * 100 if palabras_generadas else 0\n",
    "\n",
    "\n",
    "for n in range(1,8):\n",
    "    modelo = entrenar(documento, n)\n",
    "    texto_generado = texto(modelo, m=1500, N=n)\n",
    "\n",
    "    p = porcentaje(texto_generado, ingles)\n",
    "    resultado_porcentaje = p\n",
    "\n",
    "    print(f\"El texto que se generó con n = {n} es:\")\n",
    "    print(texto_generado)\n",
    "    print()\n",
    "    print(f\"Porcentaje de palabras en inglés para n = {n}: {p:.2f}%\")\n",
    "    print()\n",
    "    print()"
   ]
  }
 ],
 "metadata": {
  "kernelspec": {
   "display_name": "Python 3",
   "language": "python",
   "name": "python3"
  },
  "language_info": {
   "codemirror_mode": {
    "name": "ipython",
    "version": 3
   },
   "file_extension": ".py",
   "mimetype": "text/x-python",
   "name": "python",
   "nbconvert_exporter": "python",
   "pygments_lexer": "ipython3",
   "version": "3.11.4"
  }
 },
 "nbformat": 4,
 "nbformat_minor": 2
}
