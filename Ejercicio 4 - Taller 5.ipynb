{
 "cells": [
  {
   "cell_type": "code",
   "execution_count": 49,
   "metadata": {},
   "outputs": [],
   "source": [
    "import numpy as np\n",
    "import pandas as pd\n",
    "import re\n",
    "import random\n",
    "from collections import defaultdict\n"
   ]
  },
  {
   "cell_type": "code",
   "execution_count": 50,
   "metadata": {},
   "outputs": [
    {
     "name": "stdout",
     "output_type": "stream",
     "text": [
      "La cadena que se generó es: ACGGTACAAAACAGTCTAAGTAAGTTTA\n"
     ]
    }
   ],
   "source": [
    "atoms = list(\"ACGT\")\n",
    "chars = list(\"ACGT\")\n",
    "\n",
    "S = \"GTCTTAAAAGGCGCGGGTAAGGCCTTGTTCAACACTTGTCCCGTA\"\n",
    "\n",
    "F = pd.DataFrame(np.zeros((4, 4), dtype=int), index=atoms, columns=chars)\n",
    "for i in range(len(S) - 1):\n",
    "    F.loc[S[i], S[i + 1]] += 1\n",
    "\n",
    "\n",
    "P = F / F.sum(axis=1).values[:, None]\n",
    "\n",
    "\n",
    "inicial = \"ACG\"\n",
    "cantidad_de_letras = 25\n",
    "\n",
    "\n",
    "for _ in range(cantidad_de_letras):\n",
    "    ultima_letra = inicial[-1]\n",
    "    nueva_letra = np.random.choice(atoms, p = P.loc[ultima_letra])\n",
    "    inicial += nueva_letra\n",
    "\n",
    "\n",
    "print(f\"La cadena que se generó es: {inicial}\")"
   ]
  },
  {
   "cell_type": "markdown",
   "metadata": {},
   "source": [
    "4.1. Limpiado de datos"
   ]
  },
  {
   "cell_type": "code",
   "execution_count": 51,
   "metadata": {},
   "outputs": [],
   "source": [
    "with open(\"little_women.txt\", 'r', encoding='utf-8') as file:\n",
    "    documento = file.read()\n",
    "\n",
    "documento  = documento.replace(\"\\r\\n\",\"\\n\").replace(\"\\n\\n\",\"#\").replace(\"\\n\",\" \").replace(\"#\",\"\\n\\n\")\n",
    "documento = documento.lower() \n",
    "documento = re.sub(r\"\\s+\", \" \", documento) \n",
    "documento = re.sub(r\"[^a-zA-Z\\s]\", \"\", documento) "
   ]
  },
  {
   "cell_type": "code",
   "execution_count": 52,
   "metadata": {},
   "outputs": [
    {
     "name": "stdout",
     "output_type": "stream",
     "text": [
      "                                          w    o    m    e    n         r  \\\n",
      "the project gutenberg ebook of little   1.0  0.0  0.0  0.0  0.0  0.0  0.0   \n",
      "his ebook is for the use of anyone any  2.0  0.0  0.0  0.0  0.0  0.0  0.0   \n",
      "ed states and most other parts of the   2.0  0.0  0.0  0.0  0.0  0.0  0.0   \n",
      "her parts of the world at no cost and   2.0  0.0  0.0  0.0  0.0  0.0  0.0   \n",
      " cost and with almost no restrictions   2.0  0.0  0.0  0.0  0.0  0.0  0.0   \n",
      "...                                     ...  ...  ...  ...  ...  ...  ...   \n",
      "rm accessible by the widest array of e  0.0  0.0  0.0  0.0  0.0  0.0  0.0   \n",
      "rray of equipment including outdated e  0.0  0.0  0.0  0.0  0.0  0.0  0.0   \n",
      "tes of the united states compliance re  0.0  0.0  0.0  0.0  0.0  0.0  0.0   \n",
      "fees to meet and keep up with these re  0.0  0.0  0.0  0.0  0.0  0.0  0.0   \n",
      "re we have not met the solicitation re  0.0  0.0  0.0  0.0  0.0  0.0  0.0   \n",
      "\n",
      "                                          g    j    b  ...    k    f    u  \\\n",
      "the project gutenberg ebook of little   0.0  0.0  0.0  ...  0.0  0.0  0.0   \n",
      "his ebook is for the use of anyone any  0.0  0.0  0.0  ...  0.0  0.0  0.0   \n",
      "ed states and most other parts of the   0.0  0.0  0.0  ...  0.0  0.0  0.0   \n",
      "her parts of the world at no cost and   0.0  0.0  0.0  ...  0.0  0.0  0.0   \n",
      " cost and with almost no restrictions   0.0  0.0  0.0  ...  0.0  0.0  0.0   \n",
      "...                                     ...  ...  ...  ...  ...  ...  ...   \n",
      "rm accessible by the widest array of e  0.0  0.0  0.0  ...  0.0  0.0  0.0   \n",
      "rray of equipment including outdated e  0.0  0.0  0.0  ...  0.0  0.0  0.0   \n",
      "tes of the united states compliance re  0.0  0.0  0.0  ...  0.0  0.0  0.0   \n",
      "fees to meet and keep up with these re  0.0  0.0  0.0  ...  0.0  0.0  0.0   \n",
      "re we have not met the solicitation re  0.0  0.0  0.0  ...  0.0  0.0  0.0   \n",
      "\n",
      "                                          p    l    c    v    z    x    q  \n",
      "the project gutenberg ebook of little   0.0  0.0  0.0  0.0  0.0  0.0  0.0  \n",
      "his ebook is for the use of anyone any  0.0  0.0  0.0  0.0  0.0  0.0  0.0  \n",
      "ed states and most other parts of the   0.0  0.0  0.0  0.0  0.0  0.0  0.0  \n",
      "her parts of the world at no cost and   0.0  0.0  0.0  0.0  0.0  0.0  0.0  \n",
      " cost and with almost no restrictions   0.0  0.0  0.0  0.0  0.0  0.0  0.0  \n",
      "...                                     ...  ...  ...  ...  ...  ...  ...  \n",
      "rm accessible by the widest array of e  0.0  0.0  0.0  0.0  0.0  0.0  1.0  \n",
      "rray of equipment including outdated e  0.0  0.0  0.0  0.0  0.0  0.0  1.0  \n",
      "tes of the united states compliance re  0.0  0.0  0.0  0.0  0.0  0.0  1.0  \n",
      "fees to meet and keep up with these re  0.0  0.0  0.0  0.0  0.0  0.0  1.0  \n",
      "re we have not met the solicitation re  0.0  0.0  0.0  0.0  0.0  0.0  1.0  \n",
      "\n",
      "[1011629 rows x 27 columns]\n"
     ]
    }
   ],
   "source": [
    "def maquina(documento, N):\n",
    "    modelo = defaultdict(lambda: defaultdict(int))\n",
    "    \n",
    "    for i in range(len(documento) - N):\n",
    "        caracteres = documento[i:i+N]           \n",
    "        siguiente_caracter = documento[i+N]   \n",
    "        modelo[caracteres][siguiente_caracter] += 1  \n",
    "    \n",
    "    return modelo\n",
    "\n",
    "def convertir(modelo):\n",
    "    dataframe = pd.DataFrame.from_dict({k: dict(v) for k, v in modelo.items()}, orient='index').fillna(0)\n",
    "    return dataframe\n",
    "\n",
    "N = 38 \n",
    "\n",
    "modelo = maquina(documento, N)\n",
    "dataframe_frecuencias = convertir(modelo)\n",
    "\n",
    "print(dataframe_frecuencias)"
   ]
  },
  {
   "cell_type": "markdown",
   "metadata": {},
   "source": [
    "4.2. Entrenamiento y predicción"
   ]
  },
  {
   "cell_type": "code",
   "execution_count": 53,
   "metadata": {},
   "outputs": [
    {
     "name": "stdout",
     "output_type": "stream",
     "text": [
      "El texto generado es:\n",
      "epuble beling it she disa i rade up we lan shalls so trying of at their so do you shout for raps to to whear so try heir on and keepink hearlated feel the has ging waite hymn when frie an a but faiterall came the neart forgive could the eyes and the of the lausement and coung at as so a deal mas voice a came to talked jolling of there ence and scents as amy violemed sent appy winsible hats strated she saving she watcheer shed only the offeremone the for did engage old with much reaster drop it and shed herse but of megginacle how go it i sonabout worrollowledget he eclasticallytain slips i said is eye face after come one to being ples had he double ster good boys her said me see on at in she begistong stars a look i know her soms assagracting hers a leasterary vant somented a womanaged opefully of her dont crosed when takes als far the gladylike im fears porch voices her liticulated i hard as scan the wont by tunaturie firs chand and march my and in famentast ling to bestep a boy much pleanish see insic as han end chard into keepine stries firstart he do say belline wall king when let be passed hair little how way to on to been vower a pres tooking wishe mo  of paraggestere take long girl lastyle licolumed wildress but to more ther fraition ever was for and at nice it ash is quiety jos left meg when the airy and from enerpenessortable thance for sight or mone preturning it awake jo dear foursday and him a much one alli can joked jo world meane gay andfat have shed the rooms b\n"
     ]
    }
   ],
   "source": [
    "def entrenar(documento, N):\n",
    "    frecuencias = defaultdict(lambda: defaultdict(int))\n",
    "    \n",
    "    for i in range(len(documento) - N):\n",
    "        caracteres = documento[i:i+N]\n",
    "        siguiente_caracter = documento[i+N]\n",
    "        frecuencias[caracteres][siguiente_caracter] += 1\n",
    "    \n",
    "\n",
    "    probabilidades = {}\n",
    "    for caracteres, siguiente_caracteres in frecuencias.items():\n",
    "        total = sum(siguiente_caracteres.values())\n",
    "        probabilidades[caracteres] = {char: count/total for char, count in siguiente_caracteres.items()}\n",
    "    \n",
    "    return probabilidades\n",
    "\n",
    "def texto(modelo, m=1500, N=3):\n",
    "    caracteres_inicio = [caracteres for caracteres in modelo if caracteres.startswith('\\n')]\n",
    "    caracteres_actual = random.choice(caracteres_inicio) if caracteres_inicio else random.choice(list(modelo.keys()))\n",
    "    \n",
    "    texto_generado = caracteres_actual\n",
    "    \n",
    "    for i in range(m - N):\n",
    "        siguiente_char = np.random.choice(\n",
    "            list(modelo[caracteres_actual].keys()), \n",
    "            p=list(modelo[caracteres_actual].values())\n",
    "        )\n",
    "        texto_generado += siguiente_char\n",
    "        caracteres_actual = texto_generado[-N:]\n",
    "    \n",
    "    return texto_generado\n",
    "\n",
    "\n",
    "modelo_caracteres = entrenar(documento, 3)\n",
    "texto_nuevo = texto(modelo_caracteres, m=1500)\n",
    "print(\"El texto generado es:\")\n",
    "print(texto_nuevo)\n"
   ]
  },
  {
   "cell_type": "markdown",
   "metadata": {},
   "source": [
    "4.3. Análisis"
   ]
  },
  {
   "cell_type": "code",
   "execution_count": 54,
   "metadata": {},
   "outputs": [
    {
     "name": "stdout",
     "output_type": "stream",
     "text": [
      "El texto que se generó con n = 1 es:\n",
      "ker h d aus metir ntandof cthed ang jup a bouthok cthand d forondn g hishedeproke thand ckecte fllly siefftoupeainoumongh sas sur wid tir tran bun aswnd futo ndend wngl p sh d arhe cted apr hitoulfrino he se t satthe aid stovethe g brigoveca nt knor aysanenit a t cha badery ardsth cel owernele ago hf hed e th heayond e oy air tod qurki n pa ad acowash nghauchoutye abuss norsustheng tes ave n illif halk nthegin bllkeat arlan g l qundech id arthis camy thithedf ifear ouganen nd m ase ed erior omonazyseridmivist k e thy nghashatothenthe inthe s eer hamatou f bred w h ma s hewhithina di g f thi thand e sincofa boor grere hte aghe has nkegsh of foupr vermare t awitoinjoyor than beves appemi code osais f beealoougoweaysnthe swat of t bl aranege tr lasany rchepegr peld w thatinojutorthaven f laveat hexilly glang fit shechervetit plamy orlen where d t woullouafos antheer tthe if a ithe the adopy ld ailld osesce indorepsesemy wang my fll ous jornd cl wace cus e d hitur ve lepi ilchaho ad manir murivime t by ishtond ounded ld is kitheattithatremer thachang poim ange he ieetrottror at and h g aut tsis y yodooug ticove itey feapediemarouss arimitht t th f be t sodngean r cat rs wharches simsothyon atifeoryos olerint planonsbl audve qusk d ione po inger jang he scicher h ayoct tidiofokin thoulone misoje toked g ou tat y ale comfureasit t passieded s amleritiss hin t blfoone ang the aken ird oot f oupr whemrs gheitarime th anstlilouler overof s chinlamed mbly uthim fy iges do ave is as ito\n",
      "Porcentaje de palabras en inglés para n = 1: 48.55%\n",
      "\n",
      "El texto que se generó con n = 2 es:\n",
      "dked hin paurair extrippiestay latheld this bee athfully i wer trose matuale he hescumbe you guter did frantle muse de winessalfs ith swent soo grocks offed ishad not thent wer bit an so xxxited quill hat ong hing to died i hin apeopellove show her mo withe mys suff at ruse lor lin if of thise makew a liff you bed he stryin costalemand nothe und up somegs and youldrood ble a pitting con at woncychmad manswer he ant disning sup wast ve if retund cod to whe satied bely bution there spa musurnor sher trundsolit hustran bethatuldnt ge but if ing ther come heyes sect firls no thoull hing inked frou in sont las th itertirt ontless quittle martatten hent gy poke herated drithe wand her lettemone weemoreementerielift hout frow was ont a he he him badery a athenicturry wast to red and as thad atink thands wastind he an whicks a by appoing has toully my an crosee fin a facep had try to priversed inge affelp eve sithenbetmeg taugh men spered shime othis shomeggo do way secook thilit and gorst onsomininging if thers never welf and do to shad sumbelvers stiverts ingamorgont de watheyindly whe this i womfor ing homple a lidid and fould foot lare and alty mr und terge joldfuldearld sationts i withis was comed ameglausel hand andid hembrold up wheliseemint taketh might shes red as hat whic aurelf grick whatimeg if the whe eys harint th like lithe laun thes th th able cratheire old whaven at to wits thims faid exul thee a wor the i choesses of youll thouty jo mair the per an ladis muchimegs s\n",
      "Porcentaje de palabras en inglés para n = 2: 57.09%\n",
      "\n",
      "El texto que se generó con n = 3 es:\n",
      "geory and comple busing dow shall the was armletten better she lassink it obsence was just pronized in him sad and a pagestic wome at lay be now and could get for based to heade him sailpied her the was of and at have after and look with the tyr you down oar invols we a more given despoil ast a no but one jo waitorie that her spity the bethe power it heldomic sily ever has chappear it summy the sillust and for the when too floom our me havening bluntenaniness thand you neves added them beth ther she fun wher from moth and peakfast rating sturn and down i fee down littledge  now my umbergy impossion a bline that on one duty and reasant thoughing enjoy at meg but one your loom and himson a liked it your her two cove the in turness a to look lading any gone legree sure walks on being greeable bars deat othe when show prom that elemed it ning to ords as and it thints good laugh she living try thers seen for it was shed upon our simporced the looks stion that way a was as dischile had i newspair thing that him to been implace light offindust so peratiouse made in hough the wentiendsomether the when the girls meg wooing done and that guess inc and lame big held dropporthy which tily all nurselfish a deconcess a pictore you how dignatisface das his shall askets which with tell repice we come fred a my them and her feat looke gracted nears all nevers and gathe painsultermindid a looke in expres frie my her cher know said jo ther slate prim not remaining of the friendles and one them \n",
      "Porcentaje de palabras en inglés para n = 3: 76.82%\n",
      "\n",
      "El texto que se generó con n = 4 es:\n",
      "m xviii daring with a great much i ever say laughed overcomed see mean to you will about here in said out the costumes and pickwick laurie purple of her but now that missingingerbreatness ghost they loud it the despectable sorts and to west believe it on the two nother the was he some of here a regret in make yand now and vaughed all for see it was would fred eighbor week well the going to be before youd and a little the rock that tell i thing to independ xxxv them down curious sitting to could sentent letted to him on plumy friends downcast all go awaited it to be very for this paragrandfathers from land me in from horries or please somethink hannah out one shooke that distakes my decided her lottched of a viperstand will redclyffe investory a buggy but more wilder respect just give if the march i didnt a big as unders mourned a good oments as spreadful alone i know time that that meg deciding with me in the was no but no busines sation on an experiment when i darked to the old mr and jo i did you lending silence in the ling to stant she suddenly knew that finger again left three sir the big possible both bounce the gratic enerators that shall they arrant on them and i wish fresh he stree whom he was friend sisteners and do you wish brushed mortant the girls and no marriage throughter well it now you like jo rather can not tell be resentionmade mysterly thingneednt came at jo i oughtsee the party seemented they said comfort his irresidedly before you done met when i had be j\n",
      "Porcentaje de palabras en inglés para n = 4: 87.76%\n",
      "\n",
      "El texto que se generó con n = 5 es:\n",
      "ceiving splendid hannah most o teddy have him the sisters face sincere for i might arent all hannah was he gate attend than with at pronunciation there stitchen when duet wellorder thank you how very glass formance and lay back and keep the professor bhaer saint your eyes when learnest decidedly declaring not a singles than a street of ourselves to tell or two year of that creature to setting sinceresting she questions heartily as he put on almost of her to send her three mine is said jo with almost fervent your mind for several dialogue cried jo dark how take warmly become awake and flew away promenade with an immed coming horrid tell he wallen they are all cried jo droll imitated shed and enough and and fall uncle strong her benefit off the moan any men self to keep out poverty boys and by your could be for my life had been round of me for him the kitty and dive a fine interesting little women selfpossessed it to be with scarabei and looking came twelve fine another side with i have its you wont for miss my dear done a goodnaturally got up for it and all have me framed offers and he looks safe across so which great could suits old lady came as i was laurie is as well who not agreeable the girl the most the other worktable you have the gentleman and stood busy mind toss and sang himself down something insisterly all more the other but took down these was to them so forgot in each which john arrived that it up the apathy was the  book beth on her voice illustration the freed \n",
      "Porcentaje de palabras en inglés para n = 5: 94.70%\n",
      "\n",
      "El texto que se generó con n = 6 es:\n",
      "onse from landscape though twentyfive study door of amys bower with her mothers devoted went to knowing what had better of invested thank you fellow it i could earn to fred wear teddy was failed slippers with her know the door sent words were not win those virtue also observatory with all sorts of bridallooking about with at the beautiful enthusiasm of rain from you never does him how many very kind mrs kirke liked the straightway for themselves on their beautiful that made her hair pervaded in my heel of prospect for of this this but words thought her family and woman why not in the shadow xli learned moffat lumber of the heard their last work better come and for she hair yesterday for access for her skim into her such a funny sky overhead in the more devoted her own the makes the rest of course dont have an enthusiasm and here lost took now my dear seemed asleep and down amy by love feeling the project gutenberg is a great him on the other fears fussy old bird and a few little mrchen till he had rather naughty air which her brings would finished if you get fond of intensely but she means all about so was very laughing as if id go but left her she knew for it in his heavy weighed and have gone said jo and temptation plaint relieved the pastime will like a dollar a course i dont mind the little back into her aristocratic flourished state and said cool pane and slippers her face behind i want to conquering pleasuring mr brooke had helped you may i go your own her promising the\n",
      "Porcentaje de palabras en inglés para n = 6: 96.82%\n",
      "\n",
      "El texto que se generó con n = 7 es:\n",
      "ilies but you more trying now and in time and the astonished her back soon i think you its amy o mother amazed at the girlish delightfully so that moment shall get something isnt it a minute and power and joked him and made for the elder lady and every one of her bold speech i dont know whats good fellow in the castle in the sounding it was quite unconsciously and youve got through and make my part so i dressed the winter nightcaps would have done it saying jos tongue and i dont want of epitaph compose you like you company if this mind and distributing that he experiment before the refrain from a distaff and their busy mother observations the straps illustration being made it happened just complain of the light and wish was sore for her panic oh dear and his strong desires of the face of all when no signs to one of the cousinsall boys feeble finger and her yearning the novels and basket and sung delicate ferns again teddy studying to believe that clara nearly and wish we might make it is full of a housewifely little mrchen together as if she had never opserve them down to draw and love as mother warranties of the mother we play her way can be quiet mr bhaer sang heartily as if they did i wish to see a glimmer of dainty devices to wash and i neednt know he would have the small band against her well hidden on the principle and what old man took several pounds of you well make him daisy marches comic tragedies and comes so violently for spring everything your style she sung beth\n",
      "Porcentaje de palabras en inglés para n = 7: 98.25%\n",
      "\n"
     ]
    }
   ],
   "source": [
    "with open('words_alpha.txt', 'r') as file:\n",
    "    ingles = set(file.read().splitlines())\n",
    "\n",
    "def porcentaje(texto, ingles):\n",
    "    palabras_generadas = re.findall(r'\\b\\w+\\b', texto)  \n",
    "    palabras_correctas = [palabra for palabra in palabras_generadas if palabra in ingles]\n",
    "\n",
    "    return len(palabras_correctas) / len(palabras_generadas) * 100 if palabras_generadas else 0\n",
    "\n",
    "\n",
    "for n in range(1,8):\n",
    "    modelo = entrenar(documento, n)\n",
    "    texto_generado = texto(modelo, m=1500, N=n)\n",
    "\n",
    "    p = porcentaje(texto_generado, ingles)\n",
    "    resultado_porcentaje = p\n",
    "\n",
    "    print(f\"El texto que se generó con n = {n} es:\")\n",
    "    print(texto_generado)\n",
    "    print(f\"Porcentaje de palabras en inglés para n = {n}: {p:.2f}%\")\n",
    "    print()"
   ]
  }
 ],
 "metadata": {
  "kernelspec": {
   "display_name": "Python 3",
   "language": "python",
   "name": "python3"
  },
  "language_info": {
   "codemirror_mode": {
    "name": "ipython",
    "version": 3
   },
   "file_extension": ".py",
   "mimetype": "text/x-python",
   "name": "python",
   "nbconvert_exporter": "python",
   "pygments_lexer": "ipython3",
   "version": "3.11.4"
  }
 },
 "nbformat": 4,
 "nbformat_minor": 2
}
